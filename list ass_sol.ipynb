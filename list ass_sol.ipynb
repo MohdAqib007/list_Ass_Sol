{
 "cells": [
  {
   "cell_type": "code",
   "execution_count": 13,
   "id": "2795872d-6075-46b0-ac4f-bb4f6808531b",
   "metadata": {},
   "outputs": [],
   "source": [
    "l = [1,2,3,4,5,6]"
   ]
  },
  {
   "cell_type": "code",
   "execution_count": 14,
   "id": "1c67f3f5-12d3-40a0-b11b-9931e102dc8b",
   "metadata": {},
   "outputs": [
    {
     "data": {
      "text/plain": [
       "[1, 2, 3, 4, 5, 6, 6]"
      ]
     },
     "execution_count": 14,
     "metadata": {},
     "output_type": "execute_result"
    }
   ],
   "source": [
    "#Q1. What is the syntax for adding an element to a list in Python?\n",
    "#Ans-\n",
    "\n",
    "#To add an element to a list in Python, you can use the append() method\n",
    "l.append(6)\n",
    "l                #You will see that there are two 6 number in the last of list."
   ]
  },
  {
   "cell_type": "code",
   "execution_count": null,
   "id": "a247e1c7-671b-4c1d-9257-93f8004c56c7",
   "metadata": {},
   "outputs": [],
   "source": [
    "#Q2. What is the difference between remove() and pop() functions in Python?\n",
    "#Ans-\n",
    "'''In Python, the remove() and pop() functions are used to remove elements from a list, but they differ in how they remove elements and what they return.\n",
    "\n",
    "Here are the differences between remove() and pop():\n",
    "\n",
    "1. remove() function:\n",
    "Syntax: list_name.remove(element)\n",
    "The remove() function is used to remove the first occurrence of a specified element from the list.\n",
    "It modifies the original list in place and does not return any value.\n",
    "If the specified element is not found in the list, it raises a ValueError.\n",
    "\n",
    "2. pop() function:\n",
    "Syntax: list_name.pop(index)\n",
    "The pop() function is used to remove and return an element at a specific index in the list.\n",
    "It modifies the original list by removing the element at the specified index and returns the removed element.\n",
    "If the index is not provided, pop() removes and returns the last element in the list.\n",
    "If the index is out of range, it raises an IndexError.'''"
   ]
  },
  {
   "cell_type": "code",
   "execution_count": 17,
   "id": "a2dd8e7f-c0d3-40ff-98d0-ea7f4637fbad",
   "metadata": {},
   "outputs": [
    {
     "data": {
      "text/plain": [
       "[6, 6, 5, 4, 3, 2, 1]"
      ]
     },
     "execution_count": 17,
     "metadata": {},
     "output_type": "execute_result"
    }
   ],
   "source": [
    "#Q3. Write a Python code to sort a list in descending order.\n",
    "#Ans-\n",
    "'''To sort a list in descending order in Python, you can use the sort() method or the sorted() function with the reverse=True parameter.\n",
    "Here's an example of both approaches:\n",
    "using sort() function'''\n",
    "\n",
    "l.sort(reverse=True)\n",
    "l"
   ]
  },
  {
   "cell_type": "code",
   "execution_count": 19,
   "id": "d72ab320-0b19-47d0-bb2a-0b13bef3cf3f",
   "metadata": {},
   "outputs": [
    {
     "data": {
      "text/plain": [
       "(1, 2)"
      ]
     },
     "execution_count": 19,
     "metadata": {},
     "output_type": "execute_result"
    }
   ],
   "source": [
    "#Q4. Write a Python code to count the number of occurrences of an element in a list.\n",
    "#Ans-\n",
    "\n",
    "'''To count the number of occurrences of an element in a list we can use following count() function'''\n",
    "\n",
    "l.count(5), l.count(6)"
   ]
  },
  {
   "cell_type": "code",
   "execution_count": 21,
   "id": "192f75f4-fe05-4a71-9905-e47f0f9c2a26",
   "metadata": {},
   "outputs": [
    {
     "data": {
      "text/plain": [
       "[6, 6, 5, 4, 3, 2, 1]"
      ]
     },
     "execution_count": 21,
     "metadata": {},
     "output_type": "execute_result"
    }
   ],
   "source": [
    "#Q5. Write a Python code to reverse a list.\n",
    "#Ans-\n",
    "\n",
    "l.reverse()\n",
    "l"
   ]
  },
  {
   "cell_type": "code",
   "execution_count": null,
   "id": "b8db1c56-0d3a-4a27-ac0d-f4cbbe92f74f",
   "metadata": {},
   "outputs": [],
   "source": []
  }
 ],
 "metadata": {
  "kernelspec": {
   "display_name": "Python 3 (ipykernel)",
   "language": "python",
   "name": "python3"
  },
  "language_info": {
   "codemirror_mode": {
    "name": "ipython",
    "version": 3
   },
   "file_extension": ".py",
   "mimetype": "text/x-python",
   "name": "python",
   "nbconvert_exporter": "python",
   "pygments_lexer": "ipython3",
   "version": "3.10.8"
  }
 },
 "nbformat": 4,
 "nbformat_minor": 5
}
